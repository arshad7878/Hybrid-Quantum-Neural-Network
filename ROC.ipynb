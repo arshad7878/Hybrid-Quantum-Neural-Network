{
 "cells": [
  {
   "cell_type": "code",
   "execution_count": 4,
   "metadata": {
    "scrolled": true
   },
   "outputs": [
    {
     "name": "stdout",
     "output_type": "stream",
     "text": [
      "Area under ROC curve: 0.7229234446241516\n",
      "Closest threshold to optimal ROC: 0.41000000000000003\n"
     ]
    }
   ],
   "source": [
    "# Copyright 2018 Xanadu Quantum Technologies Inc.\n",
    "\n",
    "# Licensed under the Apache License, Version 2.0 (the \"License\");\n",
    "# you may not use this file except in compliance with the License.\n",
    "# You may obtain a copy of the License at\n",
    "\n",
    "#     http://www.apache.org/licenses/LICENSE-2.0\n",
    "\n",
    "# Unless required by applicable law or agreed to in writing, software\n",
    "# distributed under the License is distributed on an \"AS IS\" BASIS,\n",
    "# WITHOUT WARRANTIES OR CONDITIONS OF ANY KIND, either express or implied.\n",
    "# See the License for the specific language governing permissions and\n",
    "# limitations under the License.\n",
    "\"\"\"Script for creating Plots\"\"\"\n",
    "import numpy as np\n",
    "import matplotlib.pyplot as plt\n",
    "import plot_confusion_matrix\n",
    "\n",
    "plt.switch_backend('agg')\n",
    "\n",
    "# Label for simulation\n",
    "simulation_label = 1\n",
    "\n",
    "# Loading confusion table\n",
    "confusion_table = np.load('./outputs/confusion/18/confusion_table18.npy')\n",
    "\n",
    "# Defining array of thresholds from 0 to 1 to consider in the ROC curve\n",
    "thresholds_points = 101\n",
    "thresholds = np.linspace(0, 1, num=thresholds_points)\n",
    "\n",
    "# false/true positive/negative rates\n",
    "fp_rate = []\n",
    "tp_rate = []\n",
    "fn_rate = []\n",
    "tn_rate = []\n",
    "\n",
    "# Creating rates\n",
    "for i in range(thresholds_points):\n",
    "    fp_rate.append(confusion_table[i, 0, 1] / (confusion_table[i, 0, 1] + confusion_table[i, 0, 0]))\n",
    "    tp_rate.append(confusion_table[i, 1, 1] / (confusion_table[i, 1, 1] + confusion_table[i, 1, 0]))\n",
    "\n",
    "    fn_rate.append(confusion_table[i, 1, 0] / (confusion_table[i, 1, 1] + confusion_table[i, 1, 0]))\n",
    "    tn_rate.append(confusion_table[i, 0, 0] / (confusion_table[i, 0, 0] + confusion_table[i, 0, 1]))\n",
    "\n",
    "# Distance of each threshold from ideal point at (0, 1)\n",
    "distance_from_ideal = (np.array(tn_rate) - 1)**2 + (np.array(fn_rate) - 0)**2\n",
    "\n",
    "# Threshold closest to (0, 1)\n",
    "closest_threshold = np.argmin(distance_from_ideal)\n",
    "\n",
    "# Area under ROC curve\n",
    "#area_under_curve = np.trapz(np.sort(tn_rate), x=np.sort(fn_rate))\n",
    "area_under_curve = np.trapz(np.sort(tp_rate), x=np.sort(fp_rate))\n",
    "print(\"Area under ROC curve: \" + str(area_under_curve))\n",
    "print(\"Closest threshold to optimal ROC: \" + str(thresholds[closest_threshold]))\n",
    "\n",
    "# Plotting ROC curve\n",
    "straight_line = np.linspace(0, 1, 1001)\n",
    "\n",
    "plt.gcf().subplots_adjust(bottom=0.15)\n",
    "plt.rc('text', usetex=True)\n",
    "plt.rcParams['text.usetex'] = True\n",
    "plt.rc('font', family='serif')\n",
    "plt.rc('font', serif='New Century Schoolbook')\n",
    "plt.gcf().subplots_adjust(bottom=0.15)\n",
    "#plt.plot(fn_rate, tn_rate, color='#056eee', linewidth=2.2)\n",
    "\n",
    "plt.plot(fp_rate, tp_rate, color='#056eee', linewidth=2.2)\n",
    "plt.plot(straight_line, straight_line, color='#070d0d', linewidth=1.5, dashes=[6, 2])\n",
    "plt.plot(0.0, 1.0, 'ko')\n",
    "plt.plot(fn_rate[closest_threshold], tn_rate[closest_threshold], 'k^')\n",
    "plt.ylim(-0.05, 1.05)\n",
    "plt.xlim(-0.05, 1.05)\n",
    "plt.ticklabel_format(style='sci', axis='y', scilimits=(0,0))\n",
    "#plt.xlabel('False negative rate', fontsize=15)\n",
    "#plt.ylabel('True negative rate', fontsize=15)\n",
    "plt.xlabel('False positive rate', fontsize=15)\n",
    "plt.ylabel('True positive rate', fontsize=15)\n",
    "plt.tick_params(axis='both', which='major', labelsize=14, length=6, width=1)\n",
    "plt.tick_params(axis='both', which='minor', labelsize=14, length=6, width=1)\n",
    "plt.savefig(\"./outputs/confusion/18/Roc18---.pdf\")\n",
    "plt.figure()\n",
    "plt.close()\n",
    "# Selecting ideal confusion table and plotting\n",
    "confusion_table_ideal = confusion_table[closest_threshold]\n",
    "\n",
    "plt.figure()\n",
    "plot_confusion_matrix.plot_confusion_matrix(confusion_table_ideal, classes=['Normal', 'Attack'], title='confusion matrix')\n",
    "\n",
    "plt.savefig('./outputs/confusion/18/confusion_table18---.pdf')\n"
   ]
  },
  {
   "cell_type": "code",
   "execution_count": 2,
   "metadata": {
    "scrolled": true
   },
   "outputs": [
    {
     "data": {
      "text/plain": [
       "array([[30.3382716 , 19.72839506],\n",
       "       [12.25679012, 37.67654321]])"
      ]
     },
     "execution_count": 2,
     "metadata": {},
     "output_type": "execute_result"
    }
   ],
   "source": [
    "confusion_table_ideal"
   ]
  },
  {
   "cell_type": "code",
   "execution_count": 5,
   "metadata": {},
   "outputs": [],
   "source": [
    "cnf_matrix = confusion_table_ideal"
   ]
  },
  {
   "cell_type": "code",
   "execution_count": 12,
   "metadata": {},
   "outputs": [
    {
     "data": {
      "text/plain": [
       "array([[30.3382716 , 19.72839506],\n",
       "       [12.25679012, 37.67654321]])"
      ]
     },
     "execution_count": 12,
     "metadata": {},
     "output_type": "execute_result"
    }
   ],
   "source": [
    "cnf_matrix"
   ]
  },
  {
   "cell_type": "code",
   "execution_count": 6,
   "metadata": {},
   "outputs": [
    {
     "name": "stdout",
     "output_type": "stream",
     "text": [
      "Accuracy :  0.6801481481481482\n"
     ]
    }
   ],
   "source": [
    "acc= (cnf_matrix[0,0]+cnf_matrix[1,1])/(cnf_matrix[0,0]+cnf_matrix[0,1]+cnf_matrix[1,0]+cnf_matrix[1,1])\n",
    "print('Accuracy : ', acc )"
   ]
  },
  {
   "cell_type": "code",
   "execution_count": 8,
   "metadata": {},
   "outputs": [
    {
     "name": "stdout",
     "output_type": "stream",
     "text": [
      "Sensitivity :  0.6059574887803916\n",
      "Specificity :  0.7545369134154181\n"
     ]
    }
   ],
   "source": [
    "sensitivity = cnf_matrix[0,0]/(cnf_matrix[0,0]+cnf_matrix[0,1])\n",
    "print('Sensitivity : ', sensitivity )\n",
    "\n",
    "specificity = cnf_matrix[1,1]/(cnf_matrix[1,0]+cnf_matrix[1,1])\n",
    "print('Specificity : ', specificity)\n"
   ]
  },
  {
   "cell_type": "code",
   "execution_count": 9,
   "metadata": {},
   "outputs": [
    {
     "name": "stdout",
     "output_type": "stream",
     "text": [
      "False Positive Rate :  0.24546308658458194\n"
     ]
    }
   ],
   "source": [
    "FPR = cnf_matrix[1,0]/(cnf_matrix[1,0]+cnf_matrix[1,1])\n",
    "print('False Positive Rate : ', FPR )"
   ]
  },
  {
   "cell_type": "code",
   "execution_count": 10,
   "metadata": {},
   "outputs": [
    {
     "name": "stdout",
     "output_type": "stream",
     "text": [
      "Positive Predictive Value :  0.7122485653005624\n"
     ]
    }
   ],
   "source": [
    "PPV = cnf_matrix[0,0]/(cnf_matrix[0,0]+cnf_matrix[1,0])\n",
    "print('Positive Predictive Value : ', PPV )"
   ]
  },
  {
   "cell_type": "code",
   "execution_count": null,
   "metadata": {},
   "outputs": [],
   "source": [
    "NPV = cnf_matrix[1,1]/(cnf_matrix[1,1]+cnf_matrix[0,1])\n",
    "print('Negative Predictive Value : ', NPV )"
   ]
  },
  {
   "cell_type": "code",
   "execution_count": 11,
   "metadata": {},
   "outputs": [
    {
     "name": "stdout",
     "output_type": "stream",
     "text": [
      "F1 Score :  0.6548177360903858\n"
     ]
    }
   ],
   "source": [
    "Recall = cnf_matrix[0,0]/(cnf_matrix[0,0]+cnf_matrix[0,1])\n",
    "fs= 2*((PPV*Recall)/(PPV+Recall))\n",
    "print('F1 Score : ',fs)"
   ]
  },
  {
   "cell_type": "code",
   "execution_count": null,
   "metadata": {},
   "outputs": [],
   "source": []
  }
 ],
 "metadata": {
  "kernelspec": {
   "display_name": "Python 3",
   "language": "python",
   "name": "python3"
  },
  "language_info": {
   "codemirror_mode": {
    "name": "ipython",
    "version": 3
   },
   "file_extension": ".py",
   "mimetype": "text/x-python",
   "name": "python",
   "nbconvert_exporter": "python",
   "pygments_lexer": "ipython3",
   "version": "3.6.9"
  }
 },
 "nbformat": 4,
 "nbformat_minor": 2
}
